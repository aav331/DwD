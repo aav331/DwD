{
 "cells": [
  {
   "cell_type": "code",
   "execution_count": 1,
   "metadata": {},
   "outputs": [
    {
     "name": "stdout",
     "output_type": "stream",
     "text": [
      "{'spendthrift': [[217, 268, 125, 232]], 'bamboozle': [[25, 28, 28, 70]], 'nincompoop': [[23, 22, 20, 36]]}\n"
     ]
    }
   ],
   "source": [
    "#New York Times plotting\n",
    "\n",
    "# pick 3-4 keywords of interest\n",
    "# 1) pick a range of decades (eg. 1970s, 1980s, 1990s, 2000s, 2010s)\n",
    "# 2) query the NYT API\n",
    "# 3) get the count of articles containing that word\n",
    "# 4) plot how the frequency of each of those 3-4 keywords evolved over time\n",
    "\n",
    "import requests\n",
    "import time\n",
    "import json\n",
    "\n",
    "#NYT article search API\n",
    "url = \"http://api.nytimes.com/svc/search/v2/articlesearch.json\"\n",
    "\n",
    "#Variable Initialization\n",
    "words = []\n",
    "decade = []\n",
    "decade_total = {}\n",
    "\n",
    "#Adding the words to be searched and the decade\n",
    "words = ['spendthrift' , 'bamboozle', 'nincompoop']\n",
    "decade = [['19700101','19791231'],['19800101','19891231'],['19900101','19991231'],['20000101','20091231']]\n",
    "#We create this variable to pass along with the .get function\n",
    "\n",
    "for word in words :  # 3 words\n",
    "    hits = []  #To store the value of count for each word in a list for all 4 decades\n",
    "    for date in decade : # 4 decades\n",
    "      query_parameters = {'api-key': \"4e2c2412ac444ab7b712d7952094f3e5\", 'q': word, 'begin_date': date[0], 'end_date' : date[1]}\n",
    "      #Get the values of word in each decade\n",
    "      get_hits = requests.get(url, params=query_parameters)\n",
    "      time.sleep(1)  #To prevent the too many hits error\n",
    "      hits_no = json.loads(get_hits.text)\n",
    "      hits.append(hits_no['response']['meta']['hits'])  #Populate the hits for every word in each decade\n",
    "    decade_total [word] = [hits] #Create a dicionary to show the word and it's frequency over the 4 decades\n",
    "print(decade_total) #Just for Visualization"
   ]
  },
  {
   "cell_type": "code",
   "execution_count": 4,
   "metadata": {},
   "outputs": [],
   "source": [
    "# Bar chart for spendthrift.\n",
    "\n",
    "from bokeh.plotting import figure, show, save;\n",
    "from bokeh.io import output_notebook, output_file\n",
    "\n",
    "dec = ['1970s','1980s','1990s','2000s']\n",
    "for word in words :  # 3 words\n",
    "    freq = decade_total[word][0]\n",
    "    path_file = ('C:\\\\Users\\\\vashi\\\\DwD\\\\frequency_of_words_over_decade_%s.html' %(word))\n",
    "    output_file(path_file)\n",
    "    plot_word=figure(title=(\"Frequency of %s\" %(word)), x_axis_label=\"Decade\", y_axis_label=\"Frequency of words\", x_range=dec, border_fill_color = 'red')\n",
    "    plot_word.vbar(x=dec, top=freq, width= 0.8)\n",
    "    show(plot_word)\n",
    "\n",
    "\n",
    " \n",
    "#To store in local drive"
   ]
  },
  {
   "cell_type": "code",
   "execution_count": null,
   "metadata": {},
   "outputs": [],
   "source": [
    "#Different Approach just for reference\n",
    "#New York Times plotting\n",
    "\n",
    "# pick 3-4 keywords of interest\n",
    "\n",
    "# 1) pick a range of decades (eg. 1970s, 1980s, 1990s, 2000s, 2010s)\n",
    "# 2) query the NYT API\n",
    "# 3) get the count of articles containing that word\n",
    "# 4) plot how the frequency of each of those 3-4 keywords evolved over time\n",
    "\n",
    "import requests\n",
    "import time\n",
    "import json\n",
    "url = \"http://api.nytimes.com/svc/search/v2/articlesearch.json\"\n",
    "\n",
    "#API key of the NY Times.\n",
    "words = []\n",
    "decade = []\n",
    "decade_total = {}\n",
    "words = ['spendthrift' , 'bamboozle', 'nincompoop']\n",
    "decade = [['19700101','19791231'],['19800101','19891231'],['19900101','19991231'],['20000101','20091231']]\n",
    "#We create this variable to pass along with the .get function\n",
    "for word in words :\n",
    "    hits = []\n",
    "    no_of_hits = {}\n",
    "    for date in decade :\n",
    "      query_parameters = {'api-key': \"4e2c2412ac444ab7b712d7952094f3e5\", 'q': word, 'begin_date': date[0], 'end_date' : date[1]}\n",
    "      get_hits = requests.get(url, params=query_parameters)\n",
    "      time.sleep(1)\n",
    "      hits_no = json.loads(get_hits.text)\n",
    "      hits.append(hits_no['response']['meta']['hits'])\n",
    "      if date[0] == '19700101' :\n",
    "       no_of_hits ['1970s'] = [hits[0]]\n",
    "      elif date[0] == '19800101' :\n",
    "       no_of_hits ['1980s'] = [hits[1]]\n",
    "      elif date[0] == '19900101' :\n",
    "       no_of_hits ['1990s'] = [hits[2]]\n",
    "      elif date[0] == '20000101' :\n",
    "       no_of_hits ['2000s'] = [hits[3]]\n",
    "    decade_total [word] = [no_of_hits]\n",
    "#      no_of_hits \n",
    "    \n",
    "#print(no_of_hits)\n",
    "print(decade_total)\n",
    "#        \n",
    "#ask for data from the server and store the response in the variable r1"
   ]
  },
  {
   "cell_type": "code",
   "execution_count": 9,
   "metadata": {},
   "outputs": [
    {
     "ename": "ImportError",
     "evalue": "cannot import name 'Line'",
     "output_type": "error",
     "traceback": [
      "\u001b[1;31m---------------------------------------------------------------------------\u001b[0m",
      "\u001b[1;31mImportError\u001b[0m                               Traceback (most recent call last)",
      "\u001b[1;32m<ipython-input-9-4b45902b5b0a>\u001b[0m in \u001b[0;36m<module>\u001b[1;34m()\u001b[0m\n\u001b[0;32m      4\u001b[0m \u001b[1;33m\u001b[0m\u001b[0m\n\u001b[0;32m      5\u001b[0m \u001b[1;32mimport\u001b[0m \u001b[0mnumpy\u001b[0m \u001b[1;32mas\u001b[0m \u001b[0mnp\u001b[0m\u001b[1;33m\u001b[0m\u001b[0m\n\u001b[1;32m----> 6\u001b[1;33m \u001b[1;32mfrom\u001b[0m \u001b[0mbokeh\u001b[0m\u001b[1;33m.\u001b[0m\u001b[0mplotting\u001b[0m \u001b[1;32mimport\u001b[0m \u001b[0mLine\u001b[0m\u001b[1;33m,\u001b[0m \u001b[0moutput_file\u001b[0m\u001b[1;33m,\u001b[0m \u001b[0mshow\u001b[0m\u001b[1;33m\u001b[0m\u001b[0m\n\u001b[0m\u001b[0;32m      7\u001b[0m \u001b[1;33m\u001b[0m\u001b[0m\n\u001b[0;32m      8\u001b[0m \u001b[1;31m# (dict, OrderedDict, lists, arrays and DataFrames are valid inputs)\u001b[0m\u001b[1;33m\u001b[0m\u001b[1;33m\u001b[0m\u001b[0m\n",
      "\u001b[1;31mImportError\u001b[0m: cannot import name 'Line'"
     ]
    }
   ],
   "source": [
    "from bokeh.plotting import figure, show, save;\n",
    "#from bokeh.charts import Bar\n",
    "from bokeh.io import output_notebook, output_file\n",
    "\n",
    "import numpy as np\n",
    "from bokeh.plotting import output_file, show\n",
    "\n",
    "# (dict, OrderedDict, lists, arrays and DataFrames are valid inputs)\n",
    "dec = ['1970s','1980s','1990s','2000s']\n",
    "xyvalues = np.array(decade_total['spendthrift'][0], decade_total['bamboozle'][0], decade_total['nincompoop'][0])\n",
    "\n",
    "line = Line(xyvalues, x = dec, title=\"line\", legend=\"top_left\", ylabel='Count')\n",
    "\n",
    "output_notebook()\n",
    "show(line)\n",
    "    \n",
    "path_file = ('C:\\\\Users\\\\vashi\\\\DwD\\\\frequency_of_words_over_decade.html')\n",
    "output_file(path_file)\n",
    "plot_word = Bar()\n",
    "#plot_word=figure(title=(\"Frequency of words over decades\"), x_axis_label=\"Decade\", y_axis_label=\"Frequency of words\", x_range=dec, border_fill_color = 'red')\n",
    "#plot_word.vbar(x=dec, top=freq, width= 0.8)\n",
    "show(plot_word)"
   ]
  },
  {
   "cell_type": "code",
   "execution_count": 5,
   "metadata": {},
   "outputs": [
    {
     "name": "stdout",
     "output_type": "stream",
     "text": [
      "[23, 22, 20, 36]\n"
     ]
    }
   ],
   "source": [
    "print (freq_word)"
   ]
  },
  {
   "cell_type": "code",
   "execution_count": null,
   "metadata": {},
   "outputs": [],
   "source": []
  }
 ],
 "metadata": {
  "kernelspec": {
   "display_name": "Python 3",
   "language": "python",
   "name": "python3"
  },
  "language_info": {
   "codemirror_mode": {
    "name": "ipython",
    "version": 3
   },
   "file_extension": ".py",
   "mimetype": "text/x-python",
   "name": "python",
   "nbconvert_exporter": "python",
   "pygments_lexer": "ipython3",
   "version": "3.6.4"
  }
 },
 "nbformat": 4,
 "nbformat_minor": 2
}
